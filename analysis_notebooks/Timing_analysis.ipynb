{
 "cells": [
  {
   "cell_type": "markdown",
   "id": "06f335cb-8514-4541-9e65-2055a102a5d8",
   "metadata": {},
   "source": [
    "### Piscem"
   ]
  },
  {
   "cell_type": "markdown",
   "id": "20dd2e1d-8b9a-410c-b58a-9390fae53968",
   "metadata": {},
   "source": [
    "#### 10K PBMC"
   ]
  },
  {
   "cell_type": "code",
   "execution_count": null,
   "id": "13eb121a-be97-4a94-b20f-13912dfe3896",
   "metadata": {},
   "outputs": [],
   "source": [
    "data_dir <- \"../../../"
   ]
  }
 ],
 "metadata": {
  "kernelspec": {
   "display_name": "Python 3 (ipykernel)",
   "language": "python",
   "name": "python3"
  },
  "language_info": {
   "codemirror_mode": {
    "name": "ipython",
    "version": 3
   },
   "file_extension": ".py",
   "mimetype": "text/x-python",
   "name": "python",
   "nbconvert_exporter": "python",
   "pygments_lexer": "ipython3",
   "version": "3.12.6"
  }
 },
 "nbformat": 4,
 "nbformat_minor": 5
}
