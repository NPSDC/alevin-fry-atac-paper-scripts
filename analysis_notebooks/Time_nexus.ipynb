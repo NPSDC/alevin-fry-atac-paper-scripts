{
 "cells": [
  {
   "cell_type": "markdown",
   "id": "41fa15ed-3ec7-4160-8e8b-9a19e31f5733",
   "metadata": {},
   "source": [
    "### Alevin Fry"
   ]
  },
  {
   "cell_type": "markdown",
   "id": "9f38f0cc-4380-435c-8153-5f0a493d5439",
   "metadata": {},
   "source": [
    "#### 10K PBMC"
   ]
  },
  {
   "cell_type": "code",
   "execution_count": 31,
   "id": "0f8832d2-3b24-45bc-bcb1-6a14b0220e24",
   "metadata": {},
   "outputs": [],
   "source": [
    "fPath <- \"/fs/nexus-projects/scATAC-seq/time_path/piscem/map_output/10k_pbmc_ATACv2_nextgem_Chromium_Controller_fastqs/k25_m_17/bin-size=1000_thr=0.7_orp=false\"\n",
    "threads <- c(4,8,16,20,24,32)\n",
    "fpaths <- lapply(threads, function(thread) {\n",
    "    sapply(seq(3), function(i) {\n",
    "        fname <- file.path(fPath, paste(\"time_align_threads=\", thread, \"_\", i, \".out\", sep=\"\"))\n",
    "        })\n",
    "    })"
   ]
  },
  {
   "cell_type": "code",
   "execution_count": 39,
   "id": "031844c0-1c28-477d-8f6b-34ae54708fcb",
   "metadata": {},
   "outputs": [],
   "source": [
    "times <- lapply(fpaths, function(fps) {\n",
    "    round(mean(sapply(fps, function(fp) {\n",
    "        logStr <- readLines(fp)\n",
    "         time <- strsplit(substr(logStr, 4, nchar(logStr)-2),\":\")[[1]][[5]]\n",
    "         time <- as.numeric(strsplit(time, \",\")[[1]][1])\n",
    "        }))/60,3)\n",
    "    })\n",
    "\n",
    "memory <- lapply(fpaths, function(fps) {\n",
    "    round(mean(sapply(fps, function(fp) {\n",
    "        logStr <- readLines(fp)\n",
    "         time <- strsplit(substr(logStr, 4, nchar(logStr)-2),\":\")[[1]][[6]]\n",
    "         time <- as.numeric(strsplit(time, \",\")[[1]][1])\n",
    "        }))/1e6,3)\n",
    "    })"
   ]
  },
  {
   "cell_type": "code",
   "execution_count": 40,
   "id": "4904c11e-01f2-4947-a185-21f9a2ea51d3",
   "metadata": {},
   "outputs": [
    {
     "data": {
      "text/html": [
       "<ol>\n",
       "\t<li>84.484</li>\n",
       "\t<li>48.874</li>\n",
       "\t<li>23.112</li>\n",
       "\t<li>18.728</li>\n",
       "\t<li>15.757</li>\n",
       "\t<li>12.25</li>\n",
       "</ol>\n"
      ],
      "text/latex": [
       "\\begin{enumerate}\n",
       "\\item 84.484\n",
       "\\item 48.874\n",
       "\\item 23.112\n",
       "\\item 18.728\n",
       "\\item 15.757\n",
       "\\item 12.25\n",
       "\\end{enumerate}\n"
      ],
      "text/markdown": [
       "1. 84.484\n",
       "2. 48.874\n",
       "3. 23.112\n",
       "4. 18.728\n",
       "5. 15.757\n",
       "6. 12.25\n",
       "\n",
       "\n"
      ],
      "text/plain": [
       "[[1]]\n",
       "[1] 84.484\n",
       "\n",
       "[[2]]\n",
       "[1] 48.874\n",
       "\n",
       "[[3]]\n",
       "[1] 23.112\n",
       "\n",
       "[[4]]\n",
       "[1] 18.728\n",
       "\n",
       "[[5]]\n",
       "[1] 15.757\n",
       "\n",
       "[[6]]\n",
       "[1] 12.25\n"
      ]
     },
     "metadata": {},
     "output_type": "display_data"
    },
    {
     "data": {
      "text/html": [
       "<ol>\n",
       "\t<li>6.093</li>\n",
       "\t<li>6.152</li>\n",
       "\t<li>6.216</li>\n",
       "\t<li>6.231</li>\n",
       "\t<li>6.277</li>\n",
       "\t<li>6.37</li>\n",
       "</ol>\n"
      ],
      "text/latex": [
       "\\begin{enumerate}\n",
       "\\item 6.093\n",
       "\\item 6.152\n",
       "\\item 6.216\n",
       "\\item 6.231\n",
       "\\item 6.277\n",
       "\\item 6.37\n",
       "\\end{enumerate}\n"
      ],
      "text/markdown": [
       "1. 6.093\n",
       "2. 6.152\n",
       "3. 6.216\n",
       "4. 6.231\n",
       "5. 6.277\n",
       "6. 6.37\n",
       "\n",
       "\n"
      ],
      "text/plain": [
       "[[1]]\n",
       "[1] 6.093\n",
       "\n",
       "[[2]]\n",
       "[1] 6.152\n",
       "\n",
       "[[3]]\n",
       "[1] 6.216\n",
       "\n",
       "[[4]]\n",
       "[1] 6.231\n",
       "\n",
       "[[5]]\n",
       "[1] 6.277\n",
       "\n",
       "[[6]]\n",
       "[1] 6.37\n"
      ]
     },
     "metadata": {},
     "output_type": "display_data"
    }
   ],
   "source": [
    "times\n",
    "memory"
   ]
  },
  {
   "cell_type": "code",
   "execution_count": 48,
   "id": "9f088f76-df33-44f6-9aeb-f72efa578366",
   "metadata": {},
   "outputs": [
    {
     "data": {
      "text/html": [
       "<ol>\n",
       "\t<li>2.436</li>\n",
       "\t<li>1.234</li>\n",
       "\t<li>0.628</li>\n",
       "\t<li>0.534</li>\n",
       "\t<li>0.477</li>\n",
       "\t<li>0.407</li>\n",
       "</ol>\n"
      ],
      "text/latex": [
       "\\begin{enumerate}\n",
       "\\item 2.436\n",
       "\\item 1.234\n",
       "\\item 0.628\n",
       "\\item 0.534\n",
       "\\item 0.477\n",
       "\\item 0.407\n",
       "\\end{enumerate}\n"
      ],
      "text/markdown": [
       "1. 2.436\n",
       "2. 1.234\n",
       "3. 0.628\n",
       "4. 0.534\n",
       "5. 0.477\n",
       "6. 0.407\n",
       "\n",
       "\n"
      ],
      "text/plain": [
       "[[1]]\n",
       "[1] 2.436\n",
       "\n",
       "[[2]]\n",
       "[1] 1.234\n",
       "\n",
       "[[3]]\n",
       "[1] 0.628\n",
       "\n",
       "[[4]]\n",
       "[1] 0.534\n",
       "\n",
       "[[5]]\n",
       "[1] 0.477\n",
       "\n",
       "[[6]]\n",
       "[1] 0.407\n"
      ]
     },
     "metadata": {},
     "output_type": "display_data"
    },
    {
     "data": {
      "text/html": [
       "<ol>\n",
       "\t<li>1.817</li>\n",
       "\t<li>2.383</li>\n",
       "\t<li>1.692</li>\n",
       "\t<li>1.96</li>\n",
       "\t<li>1.814</li>\n",
       "\t<li>1.762</li>\n",
       "</ol>\n"
      ],
      "text/latex": [
       "\\begin{enumerate}\n",
       "\\item 1.817\n",
       "\\item 2.383\n",
       "\\item 1.692\n",
       "\\item 1.96\n",
       "\\item 1.814\n",
       "\\item 1.762\n",
       "\\end{enumerate}\n"
      ],
      "text/markdown": [
       "1. 1.817\n",
       "2. 2.383\n",
       "3. 1.692\n",
       "4. 1.96\n",
       "5. 1.814\n",
       "6. 1.762\n",
       "\n",
       "\n"
      ],
      "text/plain": [
       "[[1]]\n",
       "[1] 1.817\n",
       "\n",
       "[[2]]\n",
       "[1] 2.383\n",
       "\n",
       "[[3]]\n",
       "[1] 1.692\n",
       "\n",
       "[[4]]\n",
       "[1] 1.96\n",
       "\n",
       "[[5]]\n",
       "[1] 1.814\n",
       "\n",
       "[[6]]\n",
       "[1] 1.762\n"
      ]
     },
     "metadata": {},
     "output_type": "display_data"
    }
   ],
   "source": [
    "fPath <- \"/fs/nexus-projects/scATAC-seq/time_path/piscem/map_output/10k_pbmc_ATACv2_nextgem_Chromium_Controller_fastqs/k25_m_17/bin-size=1000_thr=0.7_orp=false\"\n",
    "threads <- c(4,8,16,20,24,32)\n",
    "fpaths <- lapply(threads, function(thread) {\n",
    "    sapply(seq(3), function(i) {\n",
    "        fname <- file.path(fPath, paste(\"time_sort_threads=\", thread, \"_\", i, \".out\", sep=\"\"))\n",
    "        })\n",
    "    })\n",
    "times <- lapply(fpaths, function(fps) {\n",
    "    round(mean(sapply(fps, function(fp) {\n",
    "        logStr <- readLines(fp)\n",
    "         time <- strsplit(substr(logStr, 4, nchar(logStr)-2),\":\")[[1]][[5]]\n",
    "         time <- as.numeric(strsplit(time, \",\")[[1]][1])\n",
    "        }))/60,3)\n",
    "    })\n",
    "\n",
    "memory <- lapply(fpaths, function(fps) {\n",
    "    round(mean(sapply(fps, function(fp) {\n",
    "        logStr <- readLines(fp)\n",
    "         time <- strsplit(substr(logStr, 4, nchar(logStr)-2),\":\")[[1]][[6]]\n",
    "         time <- as.numeric(strsplit(time, \",\")[[1]][1])\n",
    "        }))/1e6,3)\n",
    "    })\n",
    "times\n",
    "memory"
   ]
  },
  {
   "cell_type": "code",
   "execution_count": 49,
   "id": "54f74a96-0894-4c35-a159-ed4ee45774f1",
   "metadata": {},
   "outputs": [
    {
     "data": {
      "text/html": [
       "<ol>\n",
       "\t<li>0.324</li>\n",
       "\t<li>0.325</li>\n",
       "\t<li>0.325</li>\n",
       "\t<li>0.329</li>\n",
       "\t<li>0.318</li>\n",
       "\t<li>0.319</li>\n",
       "</ol>\n"
      ],
      "text/latex": [
       "\\begin{enumerate}\n",
       "\\item 0.324\n",
       "\\item 0.325\n",
       "\\item 0.325\n",
       "\\item 0.329\n",
       "\\item 0.318\n",
       "\\item 0.319\n",
       "\\end{enumerate}\n"
      ],
      "text/markdown": [
       "1. 0.324\n",
       "2. 0.325\n",
       "3. 0.325\n",
       "4. 0.329\n",
       "5. 0.318\n",
       "6. 0.319\n",
       "\n",
       "\n"
      ],
      "text/plain": [
       "[[1]]\n",
       "[1] 0.324\n",
       "\n",
       "[[2]]\n",
       "[1] 0.325\n",
       "\n",
       "[[3]]\n",
       "[1] 0.325\n",
       "\n",
       "[[4]]\n",
       "[1] 0.329\n",
       "\n",
       "[[5]]\n",
       "[1] 0.318\n",
       "\n",
       "[[6]]\n",
       "[1] 0.319\n"
      ]
     },
     "metadata": {},
     "output_type": "display_data"
    },
    {
     "data": {
      "text/html": [
       "<ol>\n",
       "\t<li>0.665</li>\n",
       "\t<li>0.649</li>\n",
       "\t<li>0.656</li>\n",
       "\t<li>0.661</li>\n",
       "\t<li>0.703</li>\n",
       "\t<li>0.66</li>\n",
       "</ol>\n"
      ],
      "text/latex": [
       "\\begin{enumerate}\n",
       "\\item 0.665\n",
       "\\item 0.649\n",
       "\\item 0.656\n",
       "\\item 0.661\n",
       "\\item 0.703\n",
       "\\item 0.66\n",
       "\\end{enumerate}\n"
      ],
      "text/markdown": [
       "1. 0.665\n",
       "2. 0.649\n",
       "3. 0.656\n",
       "4. 0.661\n",
       "5. 0.703\n",
       "6. 0.66\n",
       "\n",
       "\n"
      ],
      "text/plain": [
       "[[1]]\n",
       "[1] 0.665\n",
       "\n",
       "[[2]]\n",
       "[1] 0.649\n",
       "\n",
       "[[3]]\n",
       "[1] 0.656\n",
       "\n",
       "[[4]]\n",
       "[1] 0.661\n",
       "\n",
       "[[5]]\n",
       "[1] 0.703\n",
       "\n",
       "[[6]]\n",
       "[1] 0.66\n"
      ]
     },
     "metadata": {},
     "output_type": "display_data"
    }
   ],
   "source": [
    "fPath <- \"/fs/nexus-projects/scATAC-seq/time_path/piscem/map_output/10k_pbmc_ATACv2_nextgem_Chromium_Controller_fastqs/k25_m_17/bin-size=1000_thr=0.7_orp=false\"\n",
    "threads <- c(4,8,16,20,24,32)\n",
    "fpaths <- lapply(threads, function(thread) {\n",
    "    sapply(seq(3), function(i) {\n",
    "        fname <- file.path(fPath, paste(\"time_gen_pm_threads=\", thread, \"_\", i, \".out\", sep=\"\"))\n",
    "        })\n",
    "    })\n",
    "times <- lapply(fpaths, function(fps) {\n",
    "    round(mean(sapply(fps, function(fp) {\n",
    "        logStr <- readLines(fp)\n",
    "         time <- strsplit(substr(logStr, 4, nchar(logStr)-2),\":\")[[1]][[5]]\n",
    "         time <- as.numeric(strsplit(time, \",\")[[1]][1])\n",
    "        }))/60,3)\n",
    "    })\n",
    "\n",
    "memory <- lapply(fpaths, function(fps) {\n",
    "    round(mean(sapply(fps, function(fp) {\n",
    "        logStr <- readLines(fp)\n",
    "         time <- strsplit(substr(logStr, 4, nchar(logStr)-2),\":\")[[1]][[6]]\n",
    "         time <- as.numeric(strsplit(time, \",\")[[1]][1])\n",
    "        }))/1e6,3)\n",
    "    })\n",
    "times\n",
    "memory"
   ]
  },
  {
   "cell_type": "markdown",
   "id": "7ae33fd6-4ffe-448e-bcaf-798049c8337e",
   "metadata": {},
   "source": [
    "#### 8K Mouse"
   ]
  },
  {
   "cell_type": "code",
   "execution_count": 41,
   "id": "fce18ec3-2dd2-485e-b1ce-34ab803edf82",
   "metadata": {},
   "outputs": [],
   "source": [
    "fPath <- \"/fs/nexus-projects/scATAC-seq/time_path/piscem/map_output/8k_mouse_cortex_ATACv2_nextgem_Chromium_Controller_fastqs//k25_m_17/bin-size=1000_thr=0.7_orp=false\"\n",
    "threads <- c(4,8,16,20,24,32)\n",
    "fpaths <- lapply(threads, function(thread) {\n",
    "    sapply(seq(3), function(i) {\n",
    "        fname <- file.path(fPath, paste(\"time_align_threads=\", thread, \"_\", i, \".out\", sep=\"\"))\n",
    "        })\n",
    "    })"
   ]
  },
  {
   "cell_type": "code",
   "execution_count": 42,
   "id": "23f110d5-4cdb-449b-b6ad-16140d11c868",
   "metadata": {},
   "outputs": [],
   "source": [
    "times <- lapply(fpaths, function(fps) {\n",
    "    round(mean(sapply(fps, function(fp) {\n",
    "        logStr <- readLines(fp)\n",
    "         time <- strsplit(substr(logStr, 4, nchar(logStr)-2),\":\")[[1]][[5]]\n",
    "         time <- as.numeric(strsplit(time, \",\")[[1]][1])\n",
    "        }))/60,3)\n",
    "    })\n",
    "\n",
    "memory <- lapply(fpaths, function(fps) {\n",
    "    round(mean(sapply(fps, function(fp) {\n",
    "        logStr <- readLines(fp)\n",
    "         time <- strsplit(substr(logStr, 4, nchar(logStr)-2),\":\")[[1]][[6]]\n",
    "         time <- as.numeric(strsplit(time, \",\")[[1]][1])\n",
    "        }))/1e6,3)\n",
    "    })"
   ]
  },
  {
   "cell_type": "code",
   "execution_count": 43,
   "id": "5d89676f-9586-4bb5-aa53-2db3605dfb6e",
   "metadata": {},
   "outputs": [
    {
     "data": {
      "text/html": [
       "<ol>\n",
       "\t<li>57.872</li>\n",
       "\t<li>35.647</li>\n",
       "\t<li>17.001</li>\n",
       "\t<li>13.758</li>\n",
       "\t<li>11.681</li>\n",
       "\t<li>9.275</li>\n",
       "</ol>\n"
      ],
      "text/latex": [
       "\\begin{enumerate}\n",
       "\\item 57.872\n",
       "\\item 35.647\n",
       "\\item 17.001\n",
       "\\item 13.758\n",
       "\\item 11.681\n",
       "\\item 9.275\n",
       "\\end{enumerate}\n"
      ],
      "text/markdown": [
       "1. 57.872\n",
       "2. 35.647\n",
       "3. 17.001\n",
       "4. 13.758\n",
       "5. 11.681\n",
       "6. 9.275\n",
       "\n",
       "\n"
      ],
      "text/plain": [
       "[[1]]\n",
       "[1] 57.872\n",
       "\n",
       "[[2]]\n",
       "[1] 35.647\n",
       "\n",
       "[[3]]\n",
       "[1] 17.001\n",
       "\n",
       "[[4]]\n",
       "[1] 13.758\n",
       "\n",
       "[[5]]\n",
       "[1] 11.681\n",
       "\n",
       "[[6]]\n",
       "[1] 9.275\n"
      ]
     },
     "metadata": {},
     "output_type": "display_data"
    },
    {
     "data": {
      "text/html": [
       "<ol>\n",
       "\t<li>5.32</li>\n",
       "\t<li>5.345</li>\n",
       "\t<li>5.417</li>\n",
       "\t<li>5.471</li>\n",
       "\t<li>5.515</li>\n",
       "\t<li>5.552</li>\n",
       "</ol>\n"
      ],
      "text/latex": [
       "\\begin{enumerate}\n",
       "\\item 5.32\n",
       "\\item 5.345\n",
       "\\item 5.417\n",
       "\\item 5.471\n",
       "\\item 5.515\n",
       "\\item 5.552\n",
       "\\end{enumerate}\n"
      ],
      "text/markdown": [
       "1. 5.32\n",
       "2. 5.345\n",
       "3. 5.417\n",
       "4. 5.471\n",
       "5. 5.515\n",
       "6. 5.552\n",
       "\n",
       "\n"
      ],
      "text/plain": [
       "[[1]]\n",
       "[1] 5.32\n",
       "\n",
       "[[2]]\n",
       "[1] 5.345\n",
       "\n",
       "[[3]]\n",
       "[1] 5.417\n",
       "\n",
       "[[4]]\n",
       "[1] 5.471\n",
       "\n",
       "[[5]]\n",
       "[1] 5.515\n",
       "\n",
       "[[6]]\n",
       "[1] 5.552\n"
      ]
     },
     "metadata": {},
     "output_type": "display_data"
    }
   ],
   "source": [
    "times\n",
    "memory"
   ]
  },
  {
   "cell_type": "code",
   "execution_count": 50,
   "id": "d5459c22-60ca-4d0d-88e6-5fb37ca24775",
   "metadata": {},
   "outputs": [
    {
     "data": {
      "text/html": [
       "<ol>\n",
       "\t<li>2.07</li>\n",
       "\t<li>1.215</li>\n",
       "\t<li>0.787</li>\n",
       "\t<li>0.72</li>\n",
       "\t<li>0.677</li>\n",
       "\t<li>0.627</li>\n",
       "</ol>\n"
      ],
      "text/latex": [
       "\\begin{enumerate}\n",
       "\\item 2.07\n",
       "\\item 1.215\n",
       "\\item 0.787\n",
       "\\item 0.72\n",
       "\\item 0.677\n",
       "\\item 0.627\n",
       "\\end{enumerate}\n"
      ],
      "text/markdown": [
       "1. 2.07\n",
       "2. 1.215\n",
       "3. 0.787\n",
       "4. 0.72\n",
       "5. 0.677\n",
       "6. 0.627\n",
       "\n",
       "\n"
      ],
      "text/plain": [
       "[[1]]\n",
       "[1] 2.07\n",
       "\n",
       "[[2]]\n",
       "[1] 1.215\n",
       "\n",
       "[[3]]\n",
       "[1] 0.787\n",
       "\n",
       "[[4]]\n",
       "[1] 0.72\n",
       "\n",
       "[[5]]\n",
       "[1] 0.677\n",
       "\n",
       "[[6]]\n",
       "[1] 0.627\n"
      ]
     },
     "metadata": {},
     "output_type": "display_data"
    },
    {
     "data": {
      "text/html": [
       "<ol>\n",
       "\t<li>3.246</li>\n",
       "\t<li>3.236</li>\n",
       "\t<li>3.231</li>\n",
       "\t<li>3.048</li>\n",
       "\t<li>3.108</li>\n",
       "\t<li>3.388</li>\n",
       "</ol>\n"
      ],
      "text/latex": [
       "\\begin{enumerate}\n",
       "\\item 3.246\n",
       "\\item 3.236\n",
       "\\item 3.231\n",
       "\\item 3.048\n",
       "\\item 3.108\n",
       "\\item 3.388\n",
       "\\end{enumerate}\n"
      ],
      "text/markdown": [
       "1. 3.246\n",
       "2. 3.236\n",
       "3. 3.231\n",
       "4. 3.048\n",
       "5. 3.108\n",
       "6. 3.388\n",
       "\n",
       "\n"
      ],
      "text/plain": [
       "[[1]]\n",
       "[1] 3.246\n",
       "\n",
       "[[2]]\n",
       "[1] 3.236\n",
       "\n",
       "[[3]]\n",
       "[1] 3.231\n",
       "\n",
       "[[4]]\n",
       "[1] 3.048\n",
       "\n",
       "[[5]]\n",
       "[1] 3.108\n",
       "\n",
       "[[6]]\n",
       "[1] 3.388\n"
      ]
     },
     "metadata": {},
     "output_type": "display_data"
    }
   ],
   "source": [
    "fPath <- \"/fs/nexus-projects/scATAC-seq/time_path/piscem/map_output/8k_mouse_cortex_ATACv2_nextgem_Chromium_Controller_fastqs//k25_m_17/bin-size=1000_thr=0.7_orp=false\"\n",
    "threads <- c(4,8,16,20,24,32)\n",
    "fpaths <- lapply(threads, function(thread) {\n",
    "    sapply(seq(3), function(i) {\n",
    "        fname <- file.path(fPath, paste(\"time_sort_threads=\", thread, \"_\", i, \".out\", sep=\"\"))\n",
    "        })\n",
    "    })\n",
    "times <- lapply(fpaths, function(fps) {\n",
    "    round(mean(sapply(fps, function(fp) {\n",
    "        logStr <- readLines(fp)\n",
    "         time <- strsplit(substr(logStr, 4, nchar(logStr)-2),\":\")[[1]][[5]]\n",
    "         time <- as.numeric(strsplit(time, \",\")[[1]][1])\n",
    "        }))/60,3)\n",
    "    })\n",
    "\n",
    "memory <- lapply(fpaths, function(fps) {\n",
    "    round(mean(sapply(fps, function(fp) {\n",
    "        logStr <- readLines(fp)\n",
    "         time <- strsplit(substr(logStr, 4, nchar(logStr)-2),\":\")[[1]][[6]]\n",
    "         time <- as.numeric(strsplit(time, \",\")[[1]][1])\n",
    "        }))/1e6,3)\n",
    "    })\n",
    "times\n",
    "memory"
   ]
  },
  {
   "cell_type": "code",
   "execution_count": 51,
   "id": "1822a14e-050f-415d-9a41-e7477ae31675",
   "metadata": {},
   "outputs": [
    {
     "data": {
      "text/html": [
       "<ol>\n",
       "\t<li>0.297</li>\n",
       "\t<li>0.292</li>\n",
       "\t<li>0.285</li>\n",
       "\t<li>0.294</li>\n",
       "\t<li>0.293</li>\n",
       "\t<li>0.295</li>\n",
       "</ol>\n"
      ],
      "text/latex": [
       "\\begin{enumerate}\n",
       "\\item 0.297\n",
       "\\item 0.292\n",
       "\\item 0.285\n",
       "\\item 0.294\n",
       "\\item 0.293\n",
       "\\item 0.295\n",
       "\\end{enumerate}\n"
      ],
      "text/markdown": [
       "1. 0.297\n",
       "2. 0.292\n",
       "3. 0.285\n",
       "4. 0.294\n",
       "5. 0.293\n",
       "6. 0.295\n",
       "\n",
       "\n"
      ],
      "text/plain": [
       "[[1]]\n",
       "[1] 0.297\n",
       "\n",
       "[[2]]\n",
       "[1] 0.292\n",
       "\n",
       "[[3]]\n",
       "[1] 0.285\n",
       "\n",
       "[[4]]\n",
       "[1] 0.294\n",
       "\n",
       "[[5]]\n",
       "[1] 0.293\n",
       "\n",
       "[[6]]\n",
       "[1] 0.295\n"
      ]
     },
     "metadata": {},
     "output_type": "display_data"
    },
    {
     "data": {
      "text/html": [
       "<ol>\n",
       "\t<li>1.07</li>\n",
       "\t<li>1.023</li>\n",
       "\t<li>1.039</li>\n",
       "\t<li>1.039</li>\n",
       "\t<li>1.027</li>\n",
       "\t<li>1.028</li>\n",
       "</ol>\n"
      ],
      "text/latex": [
       "\\begin{enumerate}\n",
       "\\item 1.07\n",
       "\\item 1.023\n",
       "\\item 1.039\n",
       "\\item 1.039\n",
       "\\item 1.027\n",
       "\\item 1.028\n",
       "\\end{enumerate}\n"
      ],
      "text/markdown": [
       "1. 1.07\n",
       "2. 1.023\n",
       "3. 1.039\n",
       "4. 1.039\n",
       "5. 1.027\n",
       "6. 1.028\n",
       "\n",
       "\n"
      ],
      "text/plain": [
       "[[1]]\n",
       "[1] 1.07\n",
       "\n",
       "[[2]]\n",
       "[1] 1.023\n",
       "\n",
       "[[3]]\n",
       "[1] 1.039\n",
       "\n",
       "[[4]]\n",
       "[1] 1.039\n",
       "\n",
       "[[5]]\n",
       "[1] 1.027\n",
       "\n",
       "[[6]]\n",
       "[1] 1.028\n"
      ]
     },
     "metadata": {},
     "output_type": "display_data"
    }
   ],
   "source": [
    "fPath <- \"/fs/nexus-projects/scATAC-seq/time_path/piscem/map_output/8k_mouse_cortex_ATACv2_nextgem_Chromium_Controller_fastqs//k25_m_17/bin-size=1000_thr=0.7_orp=false\"\n",
    "threads <- c(4,8,16,20,24,32)\n",
    "fpaths <- lapply(threads, function(thread) {\n",
    "    sapply(seq(3), function(i) {\n",
    "        fname <- file.path(fPath, paste(\"time_gen_pm_threads=\", thread, \"_\", i, \".out\", sep=\"\"))\n",
    "        })\n",
    "    })\n",
    "times <- lapply(fpaths, function(fps) {\n",
    "    round(mean(sapply(fps, function(fp) {\n",
    "        logStr <- readLines(fp)\n",
    "         time <- strsplit(substr(logStr, 4, nchar(logStr)-2),\":\")[[1]][[5]]\n",
    "         time <- as.numeric(strsplit(time, \",\")[[1]][1])\n",
    "        }))/60,3)\n",
    "    })\n",
    "\n",
    "memory <- lapply(fpaths, function(fps) {\n",
    "    round(mean(sapply(fps, function(fp) {\n",
    "        logStr <- readLines(fp)\n",
    "         time <- strsplit(substr(logStr, 4, nchar(logStr)-2),\":\")[[1]][[6]]\n",
    "         time <- as.numeric(strsplit(time, \",\")[[1]][1])\n",
    "        }))/1e6,3)\n",
    "    })\n",
    "times\n",
    "memory"
   ]
  },
  {
   "cell_type": "markdown",
   "id": "597dbdc8-293a-4658-833a-4806ee28a275",
   "metadata": {},
   "source": [
    "### Chromap Wh"
   ]
  },
  {
   "cell_type": "markdown",
   "id": "66f71ea2-005d-4958-9741-28f4116f6462",
   "metadata": {},
   "source": [
    "#### 10K PBMC"
   ]
  },
  {
   "cell_type": "code",
   "execution_count": 56,
   "id": "07c59986-7840-4ef6-8d81-6bf7fc2b8ba0",
   "metadata": {},
   "outputs": [
    {
     "data": {
      "text/html": [
       "<ol>\n",
       "\t<li>37.727</li>\n",
       "\t<li>23.862</li>\n",
       "\t<li>20.964</li>\n",
       "\t<li>21.534</li>\n",
       "\t<li>20.948</li>\n",
       "\t<li>22.208</li>\n",
       "</ol>\n"
      ],
      "text/latex": [
       "\\begin{enumerate}\n",
       "\\item 37.727\n",
       "\\item 23.862\n",
       "\\item 20.964\n",
       "\\item 21.534\n",
       "\\item 20.948\n",
       "\\item 22.208\n",
       "\\end{enumerate}\n"
      ],
      "text/markdown": [
       "1. 37.727\n",
       "2. 23.862\n",
       "3. 20.964\n",
       "4. 21.534\n",
       "5. 20.948\n",
       "6. 22.208\n",
       "\n",
       "\n"
      ],
      "text/plain": [
       "[[1]]\n",
       "[1] 37.727\n",
       "\n",
       "[[2]]\n",
       "[1] 23.862\n",
       "\n",
       "[[3]]\n",
       "[1] 20.964\n",
       "\n",
       "[[4]]\n",
       "[1] 21.534\n",
       "\n",
       "[[5]]\n",
       "[1] 20.948\n",
       "\n",
       "[[6]]\n",
       "[1] 22.208\n"
      ]
     },
     "metadata": {},
     "output_type": "display_data"
    },
    {
     "data": {
      "text/html": [
       "<ol>\n",
       "\t<li>20.396</li>\n",
       "\t<li>20.479</li>\n",
       "\t<li>20.536</li>\n",
       "\t<li>20.721</li>\n",
       "\t<li>20.591</li>\n",
       "\t<li>20.599</li>\n",
       "</ol>\n"
      ],
      "text/latex": [
       "\\begin{enumerate}\n",
       "\\item 20.396\n",
       "\\item 20.479\n",
       "\\item 20.536\n",
       "\\item 20.721\n",
       "\\item 20.591\n",
       "\\item 20.599\n",
       "\\end{enumerate}\n"
      ],
      "text/markdown": [
       "1. 20.396\n",
       "2. 20.479\n",
       "3. 20.536\n",
       "4. 20.721\n",
       "5. 20.591\n",
       "6. 20.599\n",
       "\n",
       "\n"
      ],
      "text/plain": [
       "[[1]]\n",
       "[1] 20.396\n",
       "\n",
       "[[2]]\n",
       "[1] 20.479\n",
       "\n",
       "[[3]]\n",
       "[1] 20.536\n",
       "\n",
       "[[4]]\n",
       "[1] 20.721\n",
       "\n",
       "[[5]]\n",
       "[1] 20.591\n",
       "\n",
       "[[6]]\n",
       "[1] 20.599\n"
      ]
     },
     "metadata": {},
     "output_type": "display_data"
    }
   ],
   "source": [
    "fPath <- \"/fs/nexus-projects/scATAC-seq/time_path/chromap/map_output/10k_pbmc_ATACv2_nextgem_Chromium_Controller_fastqs/map_wh/\"\n",
    "threads <- c(4,8,16,20,24,32)\n",
    "fpaths <- lapply(threads, function(thread) {\n",
    "    sapply(seq(3), function(i) {\n",
    "        fname <- file.path(fPath, paste(\"time_align_threads=\", thread, \"_\", i, \".out\", sep=\"\"))\n",
    "        })\n",
    "    })\n",
    "\n",
    "times <- lapply(fpaths, function(fps) {\n",
    "    round(mean(sapply(fps, function(fp) {\n",
    "        logStr <- readLines(fp)\n",
    "         time <- strsplit(substr(logStr, 4, nchar(logStr)-2),\":\")[[1]][[5]]\n",
    "         time <- as.numeric(strsplit(time, \",\")[[1]][1])\n",
    "        }))/60,3)\n",
    "    })\n",
    "\n",
    "memory <- lapply(fpaths, function(fps) {\n",
    "    round(mean(sapply(fps, function(fp) {\n",
    "        logStr <- readLines(fp)\n",
    "         time <- strsplit(substr(logStr, 4, nchar(logStr)-2),\":\")[[1]][[6]]\n",
    "         time <- as.numeric(strsplit(time, \",\")[[1]][1])\n",
    "        }))/1e6,3)\n",
    "    })\n",
    "\n",
    "times\n",
    "memory"
   ]
  },
  {
   "cell_type": "code",
   "execution_count": null,
   "id": "11b4d1ac-acb4-49ba-9064-0e6c89832fac",
   "metadata": {},
   "outputs": [],
   "source": []
  }
 ],
 "metadata": {
  "kernelspec": {
   "display_name": "R",
   "language": "R",
   "name": "ir"
  },
  "language_info": {
   "codemirror_mode": "r",
   "file_extension": ".r",
   "mimetype": "text/x-r-source",
   "name": "R",
   "pygments_lexer": "r",
   "version": "4.3.2"
  }
 },
 "nbformat": 4,
 "nbformat_minor": 5
}
