{
 "cells": [
  {
   "cell_type": "code",
   "execution_count": 3,
   "id": "577d51e6",
   "metadata": {},
   "outputs": [],
   "source": [
    "suppressPackageStartupMessages(library(tidyverse))\n",
    "suppressPackageStartupMessages(library(GenomicRanges))\n",
    "suppressPackageStartupMessages(library(plyranges))\n",
    "suppressPackageStartupMessages(library(Signac))"
   ]
  },
  {
   "cell_type": "markdown",
   "id": "a634bd22",
   "metadata": {},
   "source": [
    "### PBMC"
   ]
  },
  {
   "cell_type": "code",
   "execution_count": 4,
   "id": "d3244352",
   "metadata": {},
   "outputs": [],
   "source": [
    "piscem_data_dir <- \"/fs/nexus-projects/scATAC-seq/piscem/map_output/10k_pbmc_ATACv2_nextgem_Chromium_Controller_fastqs/k25_m_17/bin-size=1000_thr=0.7_orp=false\"\n",
    "chromap_data_dir <- \"/fs/cbcb-lab/rob/students/noor/Atacseq/chromap_output/map_output/10k_pbmc_ATACv2_nextgem_Chromium_Controller_fastqs\"\n",
    "soft_mask_dir <- \"/fs/nexus-projects/scATAC-seq/reference\"\n",
    "cellranger_data_dir <- \"/fs/cbcb-lab/rob/students/noor/Atacseq/cell_ranger_output/10k_pbmc_ATACv2_nextgem_Chromium_Controller_fastqs\""
   ]
  },
  {
   "cell_type": "code",
   "execution_count": 5,
   "id": "a5b4c070",
   "metadata": {},
   "outputs": [],
   "source": [
    "chromapPeaks <- read.table(file.path(chromap_data_dir, \"macs2_peaks.narrowPeak\"))\n",
    "chromapPeaks <- chromapPeaks[,c(1:3)]\n",
    "colnames(chromapPeaks) <- c(\"chr\",\"start\",\"end\")\n",
    "chromapPeaksGr <- makeGRangesFromDataFrame(chromapPeaks)\n",
    "chromapPeaksGr <- keepStandardChromosomes(chromapPeaksGr, pruning.mode=\"coarse\")\n",
    "\n",
    "piscemPeaks <- read.table(file.path(piscem_data_dir, \"macs2_peaks.narrowPeak\"))\n",
    "piscemPeaks <- piscemPeaks[,c(1:3)]\n",
    "colnames(piscemPeaks) <- c(\"chr\",\"start\",\"end\")\n",
    "piscemPeaksGr <- makeGRangesFromDataFrame(piscemPeaks)\n",
    "piscemPeaksGr <- keepStandardChromosomes(piscemPeaksGr, pruning.mode=\"coarse\")\n",
    "\n",
    "softMaskPeaks <- read.table(file.path(soft_mask_dir, \"softmask.bed\"))\n",
    "softMaskPeaks <- softMaskPeaks[,c(1:3)]\n",
    "colnames(softMaskPeaks) <- c(\"chr\",\"start\",\"end\")\n",
    "softMaskPeaksGr <- makeGRangesFromDataFrame(softMaskPeaks)\n",
    "softMaskPeaks <- keepStandardChromosomes(softMaskPeaksGr, pruning.mode=\"coarse\")\n",
    "\n",
    "cellRangerMacs2Peaks <- read.table(file.path(cellranger_data_dir, \"macs2_peaks.narrowPeak\"))\n",
    "cellRangerMacs2Peaks <- cellRangerMacs2Peaks[,c(1:3)]\n",
    "colnames(cellRangerMacs2Peaks) <- c(\"chr\",\"start\",\"end\")\n",
    "cellRangerMacs2PeaksGr <- makeGRangesFromDataFrame(cellRangerMacs2Peaks)\n",
    "cellRangerMacs2PeaksGr <- keepStandardChromosomes(cellRangerMacs2PeaksGr, pruning.mode=\"coarse\")"
   ]
  },
  {
   "cell_type": "markdown",
   "id": "1bfbe6d4",
   "metadata": {},
   "source": [
    "#### AFA vs Chromap"
   ]
  },
  {
   "cell_type": "code",
   "execution_count": 6,
   "id": "33c80932",
   "metadata": {},
   "outputs": [
    {
     "data": {
      "text/html": [
       "0.97030840296096"
      ],
      "text/latex": [
       "0.97030840296096"
      ],
      "text/markdown": [
       "0.97030840296096"
      ],
      "text/plain": [
       "[1] 0.9703084"
      ]
     },
     "metadata": {},
     "output_type": "display_data"
    },
    {
     "data": {
      "text/html": [
       "0.961339744149594"
      ],
      "text/latex": [
       "0.961339744149594"
      ],
      "text/markdown": [
       "0.961339744149594"
      ],
      "text/plain": [
       "[1] 0.9613397"
      ]
     },
     "metadata": {},
     "output_type": "display_data"
    }
   ],
   "source": [
    "sum(width(intersect_ranges(chromapPeaksGr, piscemPeaksGr)))/sum(width(chromapPeaksGr))\n",
    "sum(width(intersect_ranges(chromapPeaksGr, piscemPeaksGr)))/sum(width(piscemPeaksGr))"
   ]
  },
  {
   "cell_type": "markdown",
   "id": "24ecaad3",
   "metadata": {},
   "source": [
    "#### CellRanger vs Chromap"
   ]
  },
  {
   "cell_type": "code",
   "execution_count": 7,
   "id": "bbd521e6",
   "metadata": {},
   "outputs": [
    {
     "data": {
      "text/html": [
       "0.98663139500555"
      ],
      "text/latex": [
       "0.98663139500555"
      ],
      "text/markdown": [
       "0.98663139500555"
      ],
      "text/plain": [
       "[1] 0.9866314"
      ]
     },
     "metadata": {},
     "output_type": "display_data"
    },
    {
     "data": {
      "text/html": [
       "0.974902544322255"
      ],
      "text/latex": [
       "0.974902544322255"
      ],
      "text/markdown": [
       "0.974902544322255"
      ],
      "text/plain": [
       "[1] 0.9749025"
      ]
     },
     "metadata": {},
     "output_type": "display_data"
    }
   ],
   "source": [
    "sum(width(intersect_ranges(chromapPeaksGr, cellRangerMacs2PeaksGr)))/sum(width(chromapPeaksGr))\n",
    "sum(width(intersect_ranges(chromapPeaksGr, cellRangerMacs2PeaksGr)))/sum(width(cellRangerMacs2PeaksGr))"
   ]
  },
  {
   "cell_type": "markdown",
   "id": "22597217",
   "metadata": {},
   "source": [
    "#### CellRanger vs AFA"
   ]
  },
  {
   "cell_type": "code",
   "execution_count": 8,
   "id": "e1b0671f",
   "metadata": {},
   "outputs": [
    {
     "data": {
      "text/html": [
       "0.962636380118535"
      ],
      "text/latex": [
       "0.962636380118535"
      ],
      "text/markdown": [
       "0.962636380118535"
      ],
      "text/plain": [
       "[1] 0.9626364"
      ]
     },
     "metadata": {},
     "output_type": "display_data"
    },
    {
     "data": {
      "text/html": [
       "0.960066771111773"
      ],
      "text/latex": [
       "0.960066771111773"
      ],
      "text/markdown": [
       "0.960066771111773"
      ],
      "text/plain": [
       "[1] 0.9600668"
      ]
     },
     "metadata": {},
     "output_type": "display_data"
    }
   ],
   "source": [
    "sum(width(intersect_ranges(piscemPeaksGr, cellRangerMacs2PeaksGr)))/sum(width(piscemPeaksGr))\n",
    "sum(width(intersect_ranges(piscemPeaksGr, cellRangerMacs2PeaksGr)))/sum(width(cellRangerMacs2PeaksGr))"
   ]
  },
  {
   "cell_type": "markdown",
   "id": "7ddce8a1",
   "metadata": {},
   "source": [
    "#### Chromap vs Piscem unique"
   ]
  },
  {
   "cell_type": "code",
   "execution_count": 9,
   "id": "fe1feb8f",
   "metadata": {},
   "outputs": [
    {
     "data": {
      "text/html": [
       "2.892652"
      ],
      "text/latex": [
       "2.892652"
      ],
      "text/markdown": [
       "2.892652"
      ],
      "text/plain": [
       "[1] 2.892652"
      ]
     },
     "metadata": {},
     "output_type": "display_data"
    },
    {
     "data": {
      "text/html": [
       "3.801546"
      ],
      "text/latex": [
       "3.801546"
      ],
      "text/markdown": [
       "3.801546"
      ],
      "text/plain": [
       "[1] 3.801546"
      ]
     },
     "metadata": {},
     "output_type": "display_data"
    }
   ],
   "source": [
    "chromUn <- setdiff_ranges(chromapPeaksGr, piscemPeaksGr)\n",
    "sum(width(chromUn))/1e6\n",
    "piscUn <- setdiff_ranges(piscemPeaksGr, chromapPeaksGr)\n",
    "sum(width(piscUn))/1e6"
   ]
  },
  {
   "cell_type": "markdown",
   "id": "97edf3b4",
   "metadata": {},
   "source": [
    "#### Chromap unique intersect softmask"
   ]
  },
  {
   "cell_type": "code",
   "execution_count": 10,
   "id": "3eebf8e9",
   "metadata": {},
   "outputs": [
    {
     "data": {
      "text/html": [
       "1593266"
      ],
      "text/latex": [
       "1593266"
      ],
      "text/markdown": [
       "1593266"
      ],
      "text/plain": [
       "[1] 1593266"
      ]
     },
     "metadata": {},
     "output_type": "display_data"
    },
    {
     "data": {
      "text/html": [
       "0.55079767631917"
      ],
      "text/latex": [
       "0.55079767631917"
      ],
      "text/markdown": [
       "0.55079767631917"
      ],
      "text/plain": [
       "[1] 0.5507977"
      ]
     },
     "metadata": {},
     "output_type": "display_data"
    }
   ],
   "source": [
    "soft_chrom <- intersect_ranges(softMaskPeaksGr, chromUn)\n",
    "sum(width(soft_chrom))\n",
    "sum(width(soft_chrom))/sum(width(chromUn))"
   ]
  },
  {
   "cell_type": "markdown",
   "id": "e066e598",
   "metadata": {},
   "source": [
    "#### Piscem unique intersect softmask"
   ]
  },
  {
   "cell_type": "code",
   "execution_count": 11,
   "id": "11897637",
   "metadata": {},
   "outputs": [
    {
     "data": {
      "text/html": [
       "1818973"
      ],
      "text/latex": [
       "1818973"
      ],
      "text/markdown": [
       "1818973"
      ],
      "text/plain": [
       "[1] 1818973"
      ]
     },
     "metadata": {},
     "output_type": "display_data"
    },
    {
     "data": {
      "text/html": [
       "0.478482438460563"
      ],
      "text/latex": [
       "0.478482438460563"
      ],
      "text/markdown": [
       "0.478482438460563"
      ],
      "text/plain": [
       "[1] 0.4784824"
      ]
     },
     "metadata": {},
     "output_type": "display_data"
    }
   ],
   "source": [
    "soft_piscem <- intersect_ranges(softMaskPeaksGr, piscUn)\n",
    "sum(width(soft_piscem))\n",
    "sum(width(soft_piscem))/sum(width(piscUn))"
   ]
  },
  {
   "cell_type": "markdown",
   "id": "9b2bd182",
   "metadata": {},
   "source": [
    "#### Chromap unique intersect blacklist"
   ]
  },
  {
   "cell_type": "code",
   "execution_count": 12,
   "id": "02d14bd7",
   "metadata": {},
   "outputs": [
    {
     "data": {
      "text/html": [
       "43002"
      ],
      "text/latex": [
       "43002"
      ],
      "text/markdown": [
       "43002"
      ],
      "text/plain": [
       "[1] 43002"
      ]
     },
     "metadata": {},
     "output_type": "display_data"
    },
    {
     "data": {
      "text/html": [
       "0.0148659430861369"
      ],
      "text/latex": [
       "0.0148659430861369"
      ],
      "text/markdown": [
       "0.0148659430861369"
      ],
      "text/plain": [
       "[1] 0.01486594"
      ]
     },
     "metadata": {},
     "output_type": "display_data"
    }
   ],
   "source": [
    "black_chrom <- intersect_ranges(blacklist_hg38_unified, chromUn)\n",
    "sum(width(black_chrom))\n",
    "sum(width(black_chrom))/sum(width(chromUn))"
   ]
  },
  {
   "cell_type": "markdown",
   "id": "4b6b8bba",
   "metadata": {},
   "source": [
    "#### Piscem unique intersect blacklist"
   ]
  },
  {
   "cell_type": "code",
   "execution_count": 13,
   "id": "76253dff",
   "metadata": {},
   "outputs": [
    {
     "data": {
      "text/html": [
       "43643"
      ],
      "text/latex": [
       "43643"
      ],
      "text/markdown": [
       "43643"
      ],
      "text/plain": [
       "[1] 43643"
      ]
     },
     "metadata": {},
     "output_type": "display_data"
    },
    {
     "data": {
      "text/html": [
       "0.0114803293186509"
      ],
      "text/latex": [
       "0.0114803293186509"
      ],
      "text/markdown": [
       "0.0114803293186509"
      ],
      "text/plain": [
       "[1] 0.01148033"
      ]
     },
     "metadata": {},
     "output_type": "display_data"
    }
   ],
   "source": [
    "black_pisc <- intersect_ranges(blacklist_hg38_unified, piscUn)\n",
    "sum(width(black_pisc))\n",
    "sum(width(black_pisc))/sum(width(piscUn))"
   ]
  },
  {
   "cell_type": "markdown",
   "id": "622d7704",
   "metadata": {},
   "source": [
    "### 8K Mouse Cortex"
   ]
  },
  {
   "cell_type": "code",
   "execution_count": 14,
   "id": "3489f3e9",
   "metadata": {},
   "outputs": [],
   "source": [
    "piscem_data_dir <- \"/fs/nexus-projects/scATAC-seq/piscem/map_output/8k_mouse_cortex_ATACv2_nextgem_Chromium_Controller_fastqs/k25_m_17/bin-size=1000_thr=0.7_orp=false\"\n",
    "chromap_data_dir <- \"/fs/cbcb-lab/rob/students/noor/Atacseq/chromap_output/map_output/8k_mouse_cortex_ATACv2_nextgem_Chromium_Controller_fastqs\"\n",
    "soft_mask_dir <- \"/fs/nexus-projects/scATAC-seq/reference\"\n",
    "cellranger_data_dir <- \"/fs/cbcb-lab/rob/students/noor/Atacseq/cell_ranger_output/8k_mouse_cortex_ATACv2_nextgem_Chromium_Controller_fastqs\""
   ]
  },
  {
   "cell_type": "code",
   "execution_count": 15,
   "id": "d9646e89",
   "metadata": {},
   "outputs": [],
   "source": [
    "chromapPeaks <- read.table(file.path(chromap_data_dir, \"macs2_peaks.narrowPeak\"))\n",
    "chromapPeaks <- chromapPeaks[,c(1:3)]\n",
    "colnames(chromapPeaks) <- c(\"chr\",\"start\",\"end\")\n",
    "chromapPeaksGr <- makeGRangesFromDataFrame(chromapPeaks)\n",
    "chromapPeaksGr <- keepStandardChromosomes(chromapPeaksGr, pruning.mode=\"coarse\")\n",
    "\n",
    "piscemPeaks <- read.table(file.path(piscem_data_dir, \"macs2_peaks.narrowPeak\"))\n",
    "piscemPeaks <- piscemPeaks[,c(1:3)]\n",
    "colnames(piscemPeaks) <- c(\"chr\",\"start\",\"end\")\n",
    "piscemPeaksGr <- makeGRangesFromDataFrame(piscemPeaks)\n",
    "piscemPeaksGr <- keepStandardChromosomes(piscemPeaksGr, pruning.mode=\"coarse\")\n",
    "\n",
    "softMaskPeaks <- read.table(file.path(soft_mask_dir, \"softmask_mm10.bed\"))\n",
    "softMaskPeaks <- softMaskPeaks[,c(1:3)]\n",
    "colnames(softMaskPeaks) <- c(\"chr\",\"start\",\"end\")\n",
    "softMaskPeaksGr <- makeGRangesFromDataFrame(softMaskPeaks)\n",
    "softMaskPeaks <- keepStandardChromosomes(softMaskPeaksGr, pruning.mode=\"coarse\")\n",
    "\n",
    "cellRangerMacs2Peaks <- read.table(file.path(cellranger_data_dir, \"macs2_peaks.narrowPeak\"))\n",
    "cellRangerMacs2Peaks <- cellRangerMacs2Peaks[,c(1:3)]\n",
    "colnames(cellRangerMacs2Peaks) <- c(\"chr\",\"start\",\"end\")\n",
    "cellRangerMacs2PeaksGr <- makeGRangesFromDataFrame(cellRangerMacs2Peaks)\n",
    "cellRangerMacs2PeaksGr <- keepStandardChromosomes(cellRangerMacs2PeaksGr, pruning.mode=\"coarse\")"
   ]
  },
  {
   "cell_type": "code",
   "execution_count": 16,
   "id": "7e47e99c",
   "metadata": {},
   "outputs": [
    {
     "data": {
      "text/html": [
       "0.972106611240976"
      ],
      "text/latex": [
       "0.972106611240976"
      ],
      "text/markdown": [
       "0.972106611240976"
      ],
      "text/plain": [
       "[1] 0.9721066"
      ]
     },
     "metadata": {},
     "output_type": "display_data"
    },
    {
     "data": {
      "text/html": [
       "0.976171686308464"
      ],
      "text/latex": [
       "0.976171686308464"
      ],
      "text/markdown": [
       "0.976171686308464"
      ],
      "text/plain": [
       "[1] 0.9761717"
      ]
     },
     "metadata": {},
     "output_type": "display_data"
    }
   ],
   "source": [
    "sum(width(intersect_ranges(chromapPeaksGr, piscemPeaksGr)))/sum(width(chromapPeaksGr))\n",
    "sum(width(intersect_ranges(chromapPeaksGr, piscemPeaksGr)))/sum(width(piscemPeaksGr))"
   ]
  },
  {
   "cell_type": "code",
   "execution_count": 17,
   "id": "c40ef3a0",
   "metadata": {},
   "outputs": [
    {
     "data": {
      "text/html": [
       "0.974919696466608"
      ],
      "text/latex": [
       "0.974919696466608"
      ],
      "text/markdown": [
       "0.974919696466608"
      ],
      "text/plain": [
       "[1] 0.9749197"
      ]
     },
     "metadata": {},
     "output_type": "display_data"
    },
    {
     "data": {
      "text/html": [
       "0.941304109416721"
      ],
      "text/latex": [
       "0.941304109416721"
      ],
      "text/markdown": [
       "0.941304109416721"
      ],
      "text/plain": [
       "[1] 0.9413041"
      ]
     },
     "metadata": {},
     "output_type": "display_data"
    }
   ],
   "source": [
    "sum(width(intersect_ranges(chromapPeaksGr, cellRangerMacs2PeaksGr)))/sum(width(chromapPeaksGr))\n",
    "sum(width(intersect_ranges(chromapPeaksGr, cellRangerMacs2PeaksGr)))/sum(width(cellRangerMacs2PeaksGr))"
   ]
  },
  {
   "cell_type": "code",
   "execution_count": 18,
   "id": "e010793e",
   "metadata": {},
   "outputs": [
    {
     "data": {
      "text/html": [
       "0.967933399351943"
      ],
      "text/latex": [
       "0.967933399351943"
      ],
      "text/markdown": [
       "0.967933399351943"
      ],
      "text/plain": [
       "[1] 0.9679334"
      ]
     },
     "metadata": {},
     "output_type": "display_data"
    },
    {
     "data": {
      "text/html": [
       "0.930666916399848"
      ],
      "text/latex": [
       "0.930666916399848"
      ],
      "text/markdown": [
       "0.930666916399848"
      ],
      "text/plain": [
       "[1] 0.9306669"
      ]
     },
     "metadata": {},
     "output_type": "display_data"
    }
   ],
   "source": [
    "sum(width(intersect_ranges(piscemPeaksGr, cellRangerMacs2PeaksGr)))/sum(width(piscemPeaksGr))\n",
    "sum(width(intersect_ranges(piscemPeaksGr, cellRangerMacs2PeaksGr)))/sum(width(cellRangerMacs2PeaksGr))"
   ]
  },
  {
   "cell_type": "code",
   "execution_count": 17,
   "id": "343f0579",
   "metadata": {},
   "outputs": [
    {
     "data": {
      "text/html": [
       "3.021289"
      ],
      "text/latex": [
       "3.021289"
      ],
      "text/markdown": [
       "3.021289"
      ],
      "text/plain": [
       "[1] 3.021289"
      ]
     },
     "metadata": {},
     "output_type": "display_data"
    },
    {
     "data": {
      "text/html": [
       "2.57023"
      ],
      "text/latex": [
       "2.57023"
      ],
      "text/markdown": [
       "2.57023"
      ],
      "text/plain": [
       "[1] 2.57023"
      ]
     },
     "metadata": {},
     "output_type": "display_data"
    }
   ],
   "source": [
    "chromUn <- setdiff_ranges(chromapPeaksGr, piscemPeaksGr)\n",
    "sum(width(chromUn))/1e6\n",
    "piscUn <- setdiff_ranges(piscemPeaksGr, chromapPeaksGr)\n",
    "sum(width(piscUn))/1e6"
   ]
  },
  {
   "cell_type": "code",
   "execution_count": 23,
   "id": "2c02ec56",
   "metadata": {},
   "outputs": [
    {
     "name": "stderr",
     "output_type": "stream",
     "text": [
      "Warning message in .merge_two_Seqinfo_objects(x, y):\n",
      "“Each of the 2 combined objects has sequence levels not in the other:\n",
      "  - in 'x': GL456210.1, GL456211.1, GL456212.1, GL456213.1, GL456216.1, GL456219.1, GL456221.1, GL456233.1, GL456239.1, GL456350.1, GL456354.1, GL456359.1, GL456360.1, GL456366.1, GL456367.1, GL456368.1, GL456370.1, GL456372.1, GL456378.1, GL456379.1, GL456381.1, GL456382.1, GL456383.1, GL456385.1, GL456387.1, GL456389.1, GL456390.1, GL456392.1, GL456393.1, GL456394.1, GL456396.1, JH584292.1, JH584293.1, JH584294.1, JH584295.1, JH584296.1, JH584297.1, JH584298.1, JH584299.1, JH584300.1, JH584301.1, JH584302.1, JH584303.1, JH584304.1\n",
      "  - in 'y': chrM\n",
      "  Make sure to always combine/compare objects based on the same reference\n",
      "  genome (use suppressWarnings() to suppress this warning).”\n"
     ]
    },
    {
     "data": {
      "text/html": [
       "849174"
      ],
      "text/latex": [
       "849174"
      ],
      "text/markdown": [
       "849174"
      ],
      "text/plain": [
       "[1] 849174"
      ]
     },
     "metadata": {},
     "output_type": "display_data"
    },
    {
     "data": {
      "text/html": [
       "0.281063479859093"
      ],
      "text/latex": [
       "0.281063479859093"
      ],
      "text/markdown": [
       "0.281063479859093"
      ],
      "text/plain": [
       "[1] 0.2810635"
      ]
     },
     "metadata": {},
     "output_type": "display_data"
    }
   ],
   "source": [
    "soft_chrom <- intersect_ranges(softMaskPeaksGr, chromUn)\n",
    "sum(width(soft_chrom))\n",
    "sum(width(soft_chrom))/sum(width(chromUn))"
   ]
  },
  {
   "cell_type": "code",
   "execution_count": 24,
   "id": "09edb88a",
   "metadata": {},
   "outputs": [
    {
     "name": "stderr",
     "output_type": "stream",
     "text": [
      "Warning message in .merge_two_Seqinfo_objects(x, y):\n",
      "“Each of the 2 combined objects has sequence levels not in the other:\n",
      "  - in 'x': GL456210.1, GL456211.1, GL456212.1, GL456213.1, GL456216.1, GL456219.1, GL456221.1, GL456233.1, GL456239.1, GL456350.1, GL456354.1, GL456359.1, GL456360.1, GL456366.1, GL456367.1, GL456368.1, GL456370.1, GL456372.1, GL456378.1, GL456379.1, GL456381.1, GL456382.1, GL456383.1, GL456385.1, GL456387.1, GL456389.1, GL456390.1, GL456392.1, GL456393.1, GL456394.1, GL456396.1, JH584292.1, JH584293.1, JH584294.1, JH584295.1, JH584296.1, JH584297.1, JH584298.1, JH584299.1, JH584300.1, JH584301.1, JH584302.1, JH584303.1, JH584304.1\n",
      "  - in 'y': chrM\n",
      "  Make sure to always combine/compare objects based on the same reference\n",
      "  genome (use suppressWarnings() to suppress this warning).”\n"
     ]
    },
    {
     "data": {
      "text/html": [
       "726056"
      ],
      "text/latex": [
       "726056"
      ],
      "text/markdown": [
       "726056"
      ],
      "text/plain": [
       "[1] 726056"
      ]
     },
     "metadata": {},
     "output_type": "display_data"
    },
    {
     "data": {
      "text/html": [
       "0.282486781338635"
      ],
      "text/latex": [
       "0.282486781338635"
      ],
      "text/markdown": [
       "0.282486781338635"
      ],
      "text/plain": [
       "[1] 0.2824868"
      ]
     },
     "metadata": {},
     "output_type": "display_data"
    }
   ],
   "source": [
    "soft_piscem <- intersect_ranges(softMaskPeaksGr, piscUn)\n",
    "sum(width(soft_piscem))\n",
    "sum(width(soft_piscem))/sum(width(piscUn))"
   ]
  },
  {
   "cell_type": "code",
   "execution_count": 25,
   "id": "d927ee82",
   "metadata": {},
   "outputs": [
    {
     "data": {
      "text/html": [
       "120277"
      ],
      "text/latex": [
       "120277"
      ],
      "text/markdown": [
       "120277"
      ],
      "text/plain": [
       "[1] 120277"
      ]
     },
     "metadata": {},
     "output_type": "display_data"
    },
    {
     "data": {
      "text/html": [
       "0.0398098295131647"
      ],
      "text/latex": [
       "0.0398098295131647"
      ],
      "text/markdown": [
       "0.0398098295131647"
      ],
      "text/plain": [
       "[1] 0.03980983"
      ]
     },
     "metadata": {},
     "output_type": "display_data"
    }
   ],
   "source": [
    "black_chrom <- intersect_ranges(blacklist_mm10, chromUn)\n",
    "sum(width(black_chrom))\n",
    "sum(width(black_chrom))/sum(width(chromUn))"
   ]
  },
  {
   "cell_type": "code",
   "execution_count": 27,
   "id": "200ffa51",
   "metadata": {},
   "outputs": [
    {
     "data": {
      "text/html": [
       "180724"
      ],
      "text/latex": [
       "180724"
      ],
      "text/markdown": [
       "180724"
      ],
      "text/plain": [
       "[1] 180724"
      ]
     },
     "metadata": {},
     "output_type": "display_data"
    },
    {
     "data": {
      "text/html": [
       "0.0703143298459671"
      ],
      "text/latex": [
       "0.0703143298459671"
      ],
      "text/markdown": [
       "0.0703143298459671"
      ],
      "text/plain": [
       "[1] 0.07031433"
      ]
     },
     "metadata": {},
     "output_type": "display_data"
    }
   ],
   "source": [
    "black_pisc <- intersect_ranges(blacklist_mm10, piscUn)\n",
    "sum(width(black_pisc))\n",
    "sum(width(black_pisc))/sum(width(piscUn))"
   ]
  },
  {
   "cell_type": "markdown",
   "id": "c614fb3c",
   "metadata": {},
   "source": [
    "### Human 3K dataset"
   ]
  },
  {
   "cell_type": "code",
   "execution_count": 19,
   "id": "aa361078",
   "metadata": {},
   "outputs": [],
   "source": [
    "piscem_data_dir <- \"/fs/nexus-projects/scATAC-seq/piscem/map_output/human_brain_3k_fastqs/k25_m_17/bin-size=1000_thr=0.7_orp=false\"\n",
    "chromap_data_dir <- \"/fs/cbcb-lab/rob/students/noor/Atacseq/chromap_output/map_output/human_brain_3k_fastqs\"\n",
    "soft_mask_dir <- \"/fs/nexus-projects/scATAC-seq/reference\""
   ]
  },
  {
   "cell_type": "code",
   "execution_count": 20,
   "id": "07b74789",
   "metadata": {},
   "outputs": [],
   "source": [
    "chromapPeaks <- read.table(file.path(chromap_data_dir, \"macs2_peaks.narrowPeak\"))\n",
    "chromapPeaks <- chromapPeaks[,c(1:3)]\n",
    "colnames(chromapPeaks) <- c(\"chr\",\"start\",\"end\")\n",
    "chromapPeaksGr <- makeGRangesFromDataFrame(chromapPeaks)\n",
    "chromapPeaksGr <- keepStandardChromosomes(chromapPeaksGr, pruning.mode=\"coarse\")\n",
    "\n",
    "piscemPeaks <- read.table(file.path(piscem_data_dir, \"macs2_peaks.narrowPeak\"))\n",
    "piscemPeaks <- piscemPeaks[,c(1:3)]\n",
    "colnames(piscemPeaks) <- c(\"chr\",\"start\",\"end\")\n",
    "piscemPeaksGr <- makeGRangesFromDataFrame(piscemPeaks)\n",
    "piscemPeaksGr <- keepStandardChromosomes(piscemPeaksGr, pruning.mode=\"coarse\")\n",
    "\n",
    "softMaskPeaks <- read.table(file.path(soft_mask_dir, \"softmask.bed\"))\n",
    "softMaskPeaks <- softMaskPeaks[,c(1:3)]\n",
    "colnames(softMaskPeaks) <- c(\"chr\",\"start\",\"end\")\n",
    "softMaskPeaksGr <- makeGRangesFromDataFrame(softMaskPeaks)\n",
    "softMaskPeaks <- keepStandardChromosomes(softMaskPeaksGr, pruning.mode=\"coarse\")"
   ]
  },
  {
   "cell_type": "code",
   "execution_count": 21,
   "id": "4e644bbb",
   "metadata": {},
   "outputs": [
    {
     "data": {
      "text/html": [
       "0.955005599071689"
      ],
      "text/latex": [
       "0.955005599071689"
      ],
      "text/markdown": [
       "0.955005599071689"
      ],
      "text/plain": [
       "[1] 0.9550056"
      ]
     },
     "metadata": {},
     "output_type": "display_data"
    },
    {
     "data": {
      "text/html": [
       "0.927221096978635"
      ],
      "text/latex": [
       "0.927221096978635"
      ],
      "text/markdown": [
       "0.927221096978635"
      ],
      "text/plain": [
       "[1] 0.9272211"
      ]
     },
     "metadata": {},
     "output_type": "display_data"
    }
   ],
   "source": [
    "sum(width(intersect_ranges(chromapPeaksGr, piscemPeaksGr)))/sum(width(chromapPeaksGr))\n",
    "sum(width(intersect_ranges(chromapPeaksGr, piscemPeaksGr)))/sum(width(piscemPeaksGr))"
   ]
  },
  {
   "cell_type": "code",
   "execution_count": 22,
   "id": "105ec916",
   "metadata": {},
   "outputs": [
    {
     "data": {
      "text/html": [
       "5.030083"
      ],
      "text/latex": [
       "5.030083"
      ],
      "text/markdown": [
       "5.030083"
      ],
      "text/plain": [
       "[1] 5.030083"
      ]
     },
     "metadata": {},
     "output_type": "display_data"
    },
    {
     "data": {
      "text/html": [
       "8.380015"
      ],
      "text/latex": [
       "8.380015"
      ],
      "text/markdown": [
       "8.380015"
      ],
      "text/plain": [
       "[1] 8.380015"
      ]
     },
     "metadata": {},
     "output_type": "display_data"
    }
   ],
   "source": [
    "chromUn <- setdiff_ranges(chromapPeaksGr, piscemPeaksGr)\n",
    "sum(width(chromUn))/1e6\n",
    "piscUn <- setdiff_ranges(piscemPeaksGr, chromapPeaksGr)\n",
    "sum(width(piscUn))/1e6\n"
   ]
  },
  {
   "cell_type": "code",
   "execution_count": 23,
   "id": "35aa8efc",
   "metadata": {},
   "outputs": [
    {
     "data": {
      "text/html": [
       "1896643"
      ],
      "text/latex": [
       "1896643"
      ],
      "text/markdown": [
       "1896643"
      ],
      "text/plain": [
       "[1] 1896643"
      ]
     },
     "metadata": {},
     "output_type": "display_data"
    },
    {
     "data": {
      "text/html": [
       "0.377059980918804"
      ],
      "text/latex": [
       "0.377059980918804"
      ],
      "text/markdown": [
       "0.377059980918804"
      ],
      "text/plain": [
       "[1] 0.37706"
      ]
     },
     "metadata": {},
     "output_type": "display_data"
    }
   ],
   "source": [
    "soft_chrom <- intersect_ranges(softMaskPeaksGr, chromUn)\n",
    "sum(width(soft_chrom))\n",
    "sum(width(soft_chrom))/sum(width(chromUn))"
   ]
  },
  {
   "cell_type": "code",
   "execution_count": 24,
   "id": "9ec7357e",
   "metadata": {},
   "outputs": [
    {
     "data": {
      "text/html": [
       "2634994"
      ],
      "text/latex": [
       "2634994"
      ],
      "text/markdown": [
       "2634994"
      ],
      "text/plain": [
       "[1] 2634994"
      ]
     },
     "metadata": {},
     "output_type": "display_data"
    },
    {
     "data": {
      "text/html": [
       "0.314437861984734"
      ],
      "text/latex": [
       "0.314437861984734"
      ],
      "text/markdown": [
       "0.314437861984734"
      ],
      "text/plain": [
       "[1] 0.3144379"
      ]
     },
     "metadata": {},
     "output_type": "display_data"
    }
   ],
   "source": [
    "soft_piscem <- intersect_ranges(softMaskPeaksGr, piscUn)\n",
    "sum(width(soft_piscem))\n",
    "sum(width(soft_piscem))/sum(width(piscUn))"
   ]
  }
 ],
 "metadata": {
  "kernelspec": {
   "display_name": "R",
   "language": "R",
   "name": "ir"
  },
  "language_info": {
   "codemirror_mode": "r",
   "file_extension": ".r",
   "mimetype": "text/x-r-source",
   "name": "R",
   "pygments_lexer": "r",
   "version": "4.3.2"
  }
 },
 "nbformat": 4,
 "nbformat_minor": 5
}
