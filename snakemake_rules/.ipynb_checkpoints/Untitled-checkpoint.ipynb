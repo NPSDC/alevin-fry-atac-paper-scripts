{
 "cells": [
  {
   "cell_type": "code",
   "execution_count": 3,
   "id": "48a60c6e",
   "metadata": {},
   "outputs": [],
   "source": [
    "suppressPackageStartupMessages(library(tidyverse))\n",
    "suppressPackageStartupMessages(library(GenomicRanges))\n",
    "suppressPackageStartupMessages(library(Seurat))\n",
    "suppressPackageStartupMessages(library(Signac))\n",
    "suppressPackageStartupMessages(library(EnsDb.Hsapiens.v86))\n",
    "suppressPackageStartupMessages(library(EnsDb.Mmusculus.v79))"
   ]
  },
  {
   "cell_type": "code",
   "execution_count": 14,
   "id": "ea83addf",
   "metadata": {},
   "outputs": [],
   "source": [
    "peaks_path <- \"/fs/nexus-projects/scATAC-seq/piscem/map_output/8k_mouse_cortex_ATACv2_nextgem_Chromium_Controller_fastqs/k_23/m_15/thr=0.7/macs2_peaks.narrowPeak\"\n",
    "mapping_path <- \"/fs/nexus-projects/scATAC-seq/piscem/map_output/8k_mouse_cortex_ATACv2_nextgem_Chromium_Controller_fastqs/k_23/m_15/thr=0.7/map_sorted.bed.gz\"\n",
    "data_name <- \"PBMC\"\n",
    "method_name <- \"piscem\"\n",
    "genome <- \"mm10\"\n",
    "org <- \"mouse\""
   ]
  },
  {
   "cell_type": "code",
   "execution_count": 15,
   "id": "d88f55a6",
   "metadata": {},
   "outputs": [
    {
     "name": "stderr",
     "output_type": "stream",
     "text": [
      "Computing hash\n",
      "\n",
      "Extracting reads overlapping genomic regions\n",
      "\n"
     ]
    }
   ],
   "source": [
    "out_path <- \"\"\n",
    "mapping_cells <- read_tsv(mapping_path, \n",
    "    col_names=c(\"chr\",\"start\",\"stop\",\"cell\", \"support\"), \n",
    "    col_types=c(\"-\",\"-\",\"-\",\"-\",\"-\"),\n",
    "    col_select=\"cell\") %>% \n",
    "    pull(cell) %>% \n",
    "    unique()\n",
    "\n",
    "names(x = mapping_cells) <- paste(data_name, method_name, mapping_cells, sep=\"_\")\n",
    "\n",
    "mapping_frags <- CreateFragmentObject(path = mapping_path, cells = mapping_cells, max.lines=NULL)\n",
    "\n",
    "p <- as.data.frame(read.table(peaks_path,header=F,sep=\"\\t\"))\n",
    "p <- p[,c(1:3)]\n",
    "colnames(p) <- c(\"chr\",\"start\",\"stop\")\n",
    "peaks <- suppressPackageStartupMessages(makeGRangesFromDataFrame(p))\n",
    "\n",
    "mat <- FeatureMatrix(\n",
    "  fragments = mapping_frags,\n",
    "  features = peaks,\n",
    "  process_n = 20000,\n",
    "  sep = c(\"-\", \"-\"),\n",
    "  verbose = TRUE\n",
    ")\n",
    "\n",
    "mapping_assay <- CreateChromatinAssay(mat, fragments = mapping_frags, \n",
    "    genome = genome, min.features = 500)\n",
    "seurat_ob <- CreateSeuratObject(mapping_assay, assay = \"peaks\")\n",
    "seurat_ob$Sample <- paste(data_name, method_name, sep = \"_\")"
   ]
  },
  {
   "cell_type": "code",
   "execution_count": 16,
   "id": "dbdf730f",
   "metadata": {},
   "outputs": [
    {
     "name": "stderr",
     "output_type": "stream",
     "text": [
      "Warning message in .merge_two_Seqinfo_objects(x, y):\n",
      "\"The 2 combined objects have no sequence levels in common. (Use\n",
      "  suppressWarnings() to suppress this warning.)\"\n",
      "Warning message in .merge_two_Seqinfo_objects(x, y):\n",
      "\"The 2 combined objects have no sequence levels in common. (Use\n",
      "  suppressWarnings() to suppress this warning.)\"\n",
      "Warning message in .merge_two_Seqinfo_objects(x, y):\n",
      "\"The 2 combined objects have no sequence levels in common. (Use\n",
      "  suppressWarnings() to suppress this warning.)\"\n",
      "Warning message in .merge_two_Seqinfo_objects(x, y):\n",
      "\"The 2 combined objects have no sequence levels in common. (Use\n",
      "  suppressWarnings() to suppress this warning.)\"\n",
      "Warning message in .merge_two_Seqinfo_objects(x, y):\n",
      "\"The 2 combined objects have no sequence levels in common. (Use\n",
      "  suppressWarnings() to suppress this warning.)\"\n",
      "Warning message in .merge_two_Seqinfo_objects(x, y):\n",
      "\"The 2 combined objects have no sequence levels in common. (Use\n",
      "  suppressWarnings() to suppress this warning.)\"\n",
      "Warning message in .merge_two_Seqinfo_objects(x, y):\n",
      "\"The 2 combined objects have no sequence levels in common. (Use\n",
      "  suppressWarnings() to suppress this warning.)\"\n",
      "Warning message in .merge_two_Seqinfo_objects(x, y):\n",
      "\"The 2 combined objects have no sequence levels in common. (Use\n",
      "  suppressWarnings() to suppress this warning.)\"\n",
      "Warning message in .merge_two_Seqinfo_objects(x, y):\n",
      "\"The 2 combined objects have no sequence levels in common. (Use\n",
      "  suppressWarnings() to suppress this warning.)\"\n",
      "Warning message in .merge_two_Seqinfo_objects(x, y):\n",
      "\"The 2 combined objects have no sequence levels in common. (Use\n",
      "  suppressWarnings() to suppress this warning.)\"\n",
      "Warning message in .merge_two_Seqinfo_objects(x, y):\n",
      "\"The 2 combined objects have no sequence levels in common. (Use\n",
      "  suppressWarnings() to suppress this warning.)\"\n",
      "Warning message in .merge_two_Seqinfo_objects(x, y):\n",
      "\"The 2 combined objects have no sequence levels in common. (Use\n",
      "  suppressWarnings() to suppress this warning.)\"\n",
      "Warning message in .merge_two_Seqinfo_objects(x, y):\n",
      "\"The 2 combined objects have no sequence levels in common. (Use\n",
      "  suppressWarnings() to suppress this warning.)\"\n",
      "Warning message in .merge_two_Seqinfo_objects(x, y):\n",
      "\"The 2 combined objects have no sequence levels in common. (Use\n",
      "  suppressWarnings() to suppress this warning.)\"\n",
      "Warning message in .merge_two_Seqinfo_objects(x, y):\n",
      "\"The 2 combined objects have no sequence levels in common. (Use\n",
      "  suppressWarnings() to suppress this warning.)\"\n",
      "Warning message in .merge_two_Seqinfo_objects(x, y):\n",
      "\"The 2 combined objects have no sequence levels in common. (Use\n",
      "  suppressWarnings() to suppress this warning.)\"\n",
      "Warning message in .merge_two_Seqinfo_objects(x, y):\n",
      "\"The 2 combined objects have no sequence levels in common. (Use\n",
      "  suppressWarnings() to suppress this warning.)\"\n",
      "Warning message in .merge_two_Seqinfo_objects(x, y):\n",
      "\"The 2 combined objects have no sequence levels in common. (Use\n",
      "  suppressWarnings() to suppress this warning.)\"\n",
      "Warning message in .merge_two_Seqinfo_objects(x, y):\n",
      "\"The 2 combined objects have no sequence levels in common. (Use\n",
      "  suppressWarnings() to suppress this warning.)\"\n",
      "Warning message in .merge_two_Seqinfo_objects(x, y):\n",
      "\"The 2 combined objects have no sequence levels in common. (Use\n",
      "  suppressWarnings() to suppress this warning.)\"\n",
      "Warning message in .merge_two_Seqinfo_objects(x, y):\n",
      "\"The 2 combined objects have no sequence levels in common. (Use\n",
      "  suppressWarnings() to suppress this warning.)\"\n"
     ]
    }
   ],
   "source": [
    "annotations <- if(org==\"human\") GetGRangesFromEnsDb(ensdb = EnsDb.Hsapiens.v86) else GetGRangesFromEnsDb(ensdb = EnsDb.Mmusculus.v79)\n",
    "seqlevelsStyle(annotations) <- 'UCSC'\n",
    "if(org==\"human\") {\n",
    "    genome(annotations) <- \"hg38\"\n",
    "}  else {\n",
    "    genome(annotations) <- \"mm10\"\n",
    "}"
   ]
  },
  {
   "cell_type": "code",
   "execution_count": 17,
   "id": "20745402",
   "metadata": {},
   "outputs": [
    {
     "name": "stderr",
     "output_type": "stream",
     "text": [
      "Calculating fraction of reads in peaks per cell\n",
      "\n"
     ]
    }
   ],
   "source": [
    "fragmentInfo <- CountFragments(mapping_path)\n",
    "rownames(fragmentInfo) <- paste0(seurat_ob$Sample, \"_\", fragmentInfo$CB)\n",
    "\n",
    "# Attach cell metadata to seurat object\n",
    "seurat_ob$fragments <- fragmentInfo[colnames(seurat_ob), \"frequency_count\"]\n",
    "seurat_ob$mononucleosomal <- fragmentInfo[colnames(seurat_ob), \"mononucleosomal\"]\n",
    "seurat_ob$nucleosome_free <- fragmentInfo[colnames(seurat_ob), \"nucleosome_free\"]\n",
    "seurat_ob$reads_count <- fragmentInfo[colnames(seurat_ob), \"reads_count\"]\n",
    "\n",
    "# Calculate FRiP\n",
    "seurat_ob <- FRiP(\n",
    "  object = seurat_ob,\n",
    "  assay = 'peaks',\n",
    "  total.fragments = \"fragments\"\n",
    ")"
   ]
  },
  {
   "cell_type": "code",
   "execution_count": 18,
   "id": "499130fc",
   "metadata": {},
   "outputs": [
    {
     "name": "stderr",
     "output_type": "stream",
     "text": [
      "Extracting TSS positions\n",
      "\n",
      "Extracting fragments at TSSs\n",
      "\n",
      "\n",
      "Computing TSS enrichment score\n",
      "\n"
     ]
    }
   ],
   "source": [
    "seurat_ob$blacklist_fraction <- if (genome==\"hg38\"){\n",
    "      FractionCountsInRegion(\n",
    "      object = seurat_ob, \n",
    "      assay = 'peaks',\n",
    "      regions = blacklist_hg38\n",
    "        )  \n",
    "    } else {\n",
    "        FractionCountsInRegion(\n",
    "          object = seurat_ob, \n",
    "          assay = 'peaks',\n",
    "          regions = blacklist_mm10\n",
    "        )\n",
    "    }\n",
    "\n",
    "# Compute nucleosome signal score per cell\n",
    "seurat_ob <- NucleosomeSignal(seurat_ob)\n",
    "\n",
    "# Compute TSS enrichment\n",
    "Annotation(seurat_ob) <- annotations\n",
    "seurat_ob <- TSSEnrichment(seurat_ob, fast=TRUE)"
   ]
  },
  {
   "cell_type": "code",
   "execution_count": 19,
   "id": "6931f597",
   "metadata": {},
   "outputs": [
    {
     "name": "stderr",
     "output_type": "stream",
     "text": [
      "Performing TF-IDF normalization\n",
      "\n",
      "Running SVD\n",
      "\n",
      "Scaling cell embeddings\n",
      "\n"
     ]
    }
   ],
   "source": [
    "seurat_ob_sub <- subset(x = seurat_ob,\n",
    "        subset = nCount_peaks > 1000 &\n",
    "        nCount_peaks < 100000 &\n",
    "        FRiP > 0.15 &\n",
    "        blacklist_fraction < 0.05 &\n",
    "        nucleosome_signal < 4 &\n",
    "        TSS.enrichment > 2\n",
    "        )\n",
    "\n",
    "seurat_ob_sub <- RunTFIDF(seurat_ob)\n",
    "seurat_ob_sub <- FindTopFeatures(seurat_ob_sub, min.cutoff = 'q0')\n",
    "seurat_ob_sub <- RunSVD(seurat_ob_sub)"
   ]
  },
  {
   "cell_type": "code",
   "execution_count": 22,
   "id": "283736f0",
   "metadata": {},
   "outputs": [
    {
     "name": "stderr",
     "output_type": "stream",
     "text": [
      "17:48:38 UMAP embedding parameters a = 0.9922 b = 1.112\n",
      "\n",
      "17:48:38 Read 7800 rows and found 29 numeric columns\n",
      "\n",
      "17:48:38 Using Annoy for neighbor search, n_neighbors = 30\n",
      "\n",
      "17:48:38 Building Annoy index with metric = cosine, n_trees = 50\n",
      "\n",
      "0%   10   20   30   40   50   60   70   80   90   100%\n",
      "\n",
      "[----|----|----|----|----|----|----|----|----|----|\n",
      "\n",
      "*\n",
      "*\n",
      "*\n",
      "*\n",
      "*\n",
      "*\n",
      "*\n",
      "*\n",
      "*\n",
      "*\n",
      "*\n",
      "*\n",
      "*\n",
      "*\n",
      "*\n",
      "*\n",
      "*\n",
      "*\n",
      "*\n",
      "*\n",
      "*\n",
      "*\n",
      "*\n",
      "*\n",
      "*\n",
      "*\n",
      "*\n",
      "*\n",
      "*\n",
      "*\n",
      "*\n",
      "*\n",
      "*\n",
      "*\n",
      "*\n",
      "*\n",
      "*\n",
      "*\n",
      "*\n",
      "*\n",
      "*\n",
      "*\n",
      "*\n",
      "*\n",
      "*\n",
      "*\n",
      "*\n",
      "*\n",
      "*\n",
      "*\n",
      "|\n",
      "\n",
      "17:48:38 Writing NN index file to temp file /tmp/RtmpzvQ1B8/file1b5c7b497b0909\n",
      "\n",
      "17:48:38 Searching Annoy index using 1 thread, search_k = 3000\n",
      "\n",
      "17:48:40 Annoy recall = 100%\n",
      "\n",
      "17:48:41 Commencing smooth kNN distance calibration using 1 thread\n",
      " with target n_neighbors = 30\n",
      "\n",
      "17:48:43 Initializing from normalized Laplacian + noise (using RSpectra)\n",
      "\n",
      "17:48:43 Commencing optimization for 500 epochs, with 315520 positive edges\n",
      "\n",
      "17:48:51 Optimization finished\n",
      "\n",
      "Computing nearest neighbor graph\n",
      "\n",
      "Computing SNN\n",
      "\n"
     ]
    }
   ],
   "source": [
    "seurat_ob_sub <- RunUMAP(object = seurat_ob_sub, reduction = 'lsi', dims = 2:30)\n",
    "seurat_ob_sub <- FindNeighbors(object = seurat_ob_sub, reduction = 'lsi', dims = 2:30)\n",
    "seurat_ob_sub <- FindClusters(object = seurat_ob_sub, verbose = FALSE, algorithm = 3)"
   ]
  },
  {
   "cell_type": "code",
   "execution_count": null,
   "id": "9b3a9101",
   "metadata": {},
   "outputs": [],
   "source": [
    "eurat_ob$nucleosome_group <- ifelse(seurat_ob$nucleosome_signal > 4, 'NS > 4', 'NS < 4')"
   ]
  }
 ],
 "metadata": {
  "kernelspec": {
   "display_name": "R",
   "language": "R",
   "name": "ir"
  },
  "language_info": {
   "codemirror_mode": "r",
   "file_extension": ".r",
   "mimetype": "text/x-r-source",
   "name": "R",
   "pygments_lexer": "r",
   "version": "4.3.2"
  }
 },
 "nbformat": 4,
 "nbformat_minor": 5
}
